{
 "cells": [
  {
   "cell_type": "markdown",
   "id": "2383c5e4",
   "metadata": {},
   "source": [
    "# Identifying SVGs on DLPFC data using SINFONIA"
   ]
  },
  {
   "cell_type": "markdown",
   "id": "1223043f",
   "metadata": {},
   "source": [
    "The following tutorial demonstrates how to use SINFONIA for identifying spatially variable genes (SVGs) on a human dorsolateral prefrontal cortex (DLPFC) dataset ([Maynard, et al., 2021](https://www.nature.com/articles/s41593-020-00787-0))."
   ]
  },
  {
   "cell_type": "markdown",
   "id": "deb649a5",
   "metadata": {},
   "source": [
    "There are two parts in this tutorial:"
   ]
  },
  {
   "cell_type": "markdown",
   "id": "277c89fa",
   "metadata": {},
   "source": [
    "- **Integrating SINFONIA into SCANPY.** This part will show you how to seamlessly integrate SINFONIA into the SCANPY vignette for spatial transcriptomic data.\n",
    "- **Evaluating the performance for deciphering spatial domain.** This part will show you how to evaluate the performance of identified SVGs for deciphering spatial domain, and reproduce the results in the manuscript of SINFONIA."
   ]
  },
  {
   "cell_type": "code",
   "execution_count": 1,
   "id": "a91725c0",
   "metadata": {
    "ExecuteTime": {
     "end_time": "2022-05-11T05:33:06.803115Z",
     "start_time": "2022-05-11T05:33:05.204389Z"
    }
   },
   "outputs": [],
   "source": [
    "import numpy as np\n",
    "import pandas as pd\n",
    "import scanpy as sc\n",
    "import sinfonia\n",
    "import warnings\n",
    "warnings.filterwarnings(\"ignore\")"
   ]
  },
  {
   "cell_type": "markdown",
   "id": "03aaa865",
   "metadata": {},
   "source": [
    "On a unix system, you can uncomment and execute the following command to download the DLPFC dataset in AnnData format."
   ]
  },
  {
   "cell_type": "code",
   "execution_count": 2,
   "id": "e3eafd15",
   "metadata": {
    "ExecuteTime": {
     "end_time": "2022-05-11T05:33:06.806577Z",
     "start_time": "2022-05-11T05:33:06.804474Z"
    }
   },
   "outputs": [],
   "source": [
    "# !wget https://health.tsinghua.edu.cn/software/sinfonia/data/10X_DLPFC_151507.h5ad"
   ]
  },
  {
   "cell_type": "code",
   "execution_count": 3,
   "id": "7d8f3f2a",
   "metadata": {
    "ExecuteTime": {
     "end_time": "2022-05-11T05:33:06.931032Z",
     "start_time": "2022-05-11T05:33:06.807528Z"
    }
   },
   "outputs": [
    {
     "data": {
      "text/plain": [
       "AnnData object with n_obs × n_vars = 4221 × 33538\n",
       "    obs: 'label'\n",
       "    var: 'gene_id', 'gene_name'\n",
       "    obsm: 'spatial'"
      ]
     },
     "execution_count": 3,
     "metadata": {},
     "output_type": "execute_result"
    }
   ],
   "source": [
    "DLPFC_151507 = sc.read('10X_DLPFC_151507.h5ad')\n",
    "DLPFC_151507"
   ]
  },
  {
   "cell_type": "markdown",
   "id": "709fb454",
   "metadata": {},
   "source": [
    "## Integrating SINFONIA into SCANPY"
   ]
  },
  {
   "cell_type": "markdown",
   "id": "bfbd633f",
   "metadata": {},
   "source": [
    "First, we set a random seed for reproducibility."
   ]
  },
  {
   "cell_type": "code",
   "execution_count": 4,
   "id": "fb9fa4cb",
   "metadata": {
    "ExecuteTime": {
     "end_time": "2022-05-11T05:33:07.907085Z",
     "start_time": "2022-05-11T05:33:07.904180Z"
    }
   },
   "outputs": [],
   "source": [
    "sinfonia.setup_seed(2022)"
   ]
  },
  {
   "cell_type": "markdown",
   "id": "1340f5f1",
   "metadata": {},
   "source": [
    "We then follow [the SCANPY vignette](https://scanpy-tutorials.readthedocs.io/en/latest/spatial/basic-analysis.html) for spatial transcriptomic data to process the DLPFC dataset. In order to avoid subjective factors in quality control, we start from the count matrix."
   ]
  },
  {
   "cell_type": "markdown",
   "id": "010a363e",
   "metadata": {},
   "source": [
    "We filter out the genes with zero counts, normalize and logarithmize the data."
   ]
  },
  {
   "cell_type": "code",
   "execution_count": 5,
   "id": "429acdf4",
   "metadata": {
    "ExecuteTime": {
     "end_time": "2022-05-11T05:33:10.206198Z",
     "start_time": "2022-05-11T05:33:09.892052Z"
    }
   },
   "outputs": [],
   "source": [
    "adata = DLPFC_151507.copy()\n",
    "sc.pp.filter_genes(adata, min_cells=1)\n",
    "sc.pp.normalize_total(adata, inplace=True)\n",
    "sc.pp.log1p(adata)"
   ]
  },
  {
   "cell_type": "markdown",
   "id": "a383bad5",
   "metadata": {},
   "source": [
    "Next, we detect SVGs via SINFONIA with the same `n_top_genes` as in the SCANPY vignette."
   ]
  },
  {
   "cell_type": "code",
   "execution_count": 6,
   "id": "7b0aa467",
   "metadata": {
    "ExecuteTime": {
     "end_time": "2022-05-11T05:33:31.135551Z",
     "start_time": "2022-05-11T05:33:17.419116Z"
    }
   },
   "outputs": [],
   "source": [
    "adata = sinfonia.spatially_variable_genes(adata, n_top_genes=2000, subset=True)"
   ]
  },
  {
   "cell_type": "markdown",
   "id": "e89cf72f",
   "metadata": {},
   "source": [
    "The mode used to identify SVGs is stored in `adata.uns['svg']`. Boolean indicators of SVGs are stored in `adata.var['spatially_variable']`. Moran’s I scores of all the genes are stored in `adata.var['moranI']`, while rescaled Geary’s C scores of all the genes are stored in `adata.var['gearyC']`."
   ]
  },
  {
   "cell_type": "code",
   "execution_count": 7,
   "id": "c8359093",
   "metadata": {
    "ExecuteTime": {
     "end_time": "2022-05-11T05:33:31.140571Z",
     "start_time": "2022-05-11T05:33:31.137023Z"
    }
   },
   "outputs": [
    {
     "data": {
      "text/plain": [
       "View of AnnData object with n_obs × n_vars = 4221 × 3640\n",
       "    obs: 'label'\n",
       "    var: 'gene_id', 'gene_name', 'n_cells', 'spatially_variable', 'moranI', 'gearyC'\n",
       "    uns: 'log1p', 'svg'\n",
       "    obsm: 'spatial'"
      ]
     },
     "execution_count": 7,
     "metadata": {},
     "output_type": "execute_result"
    }
   ],
   "source": [
    "adata"
   ]
  },
  {
   "cell_type": "markdown",
   "id": "97ee24bd",
   "metadata": {},
   "source": [
    "We then embed and cluster the manifold encoded by transcriptional similarity."
   ]
  },
  {
   "cell_type": "code",
   "execution_count": 8,
   "id": "c47b93ea",
   "metadata": {
    "ExecuteTime": {
     "end_time": "2022-05-11T05:33:46.695338Z",
     "start_time": "2022-05-11T05:33:31.141680Z"
    }
   },
   "outputs": [],
   "source": [
    "sc.pp.pca(adata)\n",
    "sc.pp.neighbors(adata)\n",
    "sc.tl.umap(adata)\n",
    "sc.tl.louvain(adata, key_added=\"default_louvain\")\n",
    "sc.tl.leiden(adata, key_added=\"default_leiden\")"
   ]
  },
  {
   "cell_type": "markdown",
   "id": "9e00c589",
   "metadata": {},
   "source": [
    "We can also specify the number of clusters. SINFONIA will perform a binary search to tune the resolution parameter in clustering to make the number of clusters and the specified number as close as possible."
   ]
  },
  {
   "cell_type": "code",
   "execution_count": 9,
   "id": "e642e524",
   "metadata": {
    "ExecuteTime": {
     "end_time": "2022-05-11T05:33:48.437570Z",
     "start_time": "2022-05-11T05:33:46.696864Z"
    }
   },
   "outputs": [
    {
     "name": "stdout",
     "output_type": "stream",
     "text": [
      "Succeed to find 7 clusters at resolution 1.125.\n",
      "Succeed to find 7 clusters at resolution 0.750.\n"
     ]
    }
   ],
   "source": [
    "adata = sinfonia.get_N_clusters(adata, n_cluster=adata.obs['label'].nunique(), cluster_method='louvain')\n",
    "adata.obs['cluster_louvain'] = adata.obs['louvain']\n",
    "adata = sinfonia.get_N_clusters(adata, n_cluster=adata.obs['label'].nunique(), cluster_method='leiden')\n",
    "adata.obs['cluster_leiden'] = adata.obs['leiden']"
   ]
  },
  {
   "cell_type": "markdown",
   "id": "24ea03f1",
   "metadata": {},
   "source": [
    "## Evaluating the performance for deciphering spatial domain"
   ]
  },
  {
   "cell_type": "markdown",
   "id": "eca93e44",
   "metadata": {},
   "source": [
    "We first evaluate the performance for spatial clustering with default resolution in SCANPY."
   ]
  },
  {
   "cell_type": "code",
   "execution_count": 10,
   "id": "9bea652d",
   "metadata": {
    "ExecuteTime": {
     "end_time": "2022-05-11T05:33:49.906949Z",
     "start_time": "2022-05-11T05:33:49.833123Z"
    }
   },
   "outputs": [
    {
     "name": "stdout",
     "output_type": "stream",
     "text": [
      "Louvain with default resolution:\n",
      "AMI: 0.454, \tARI: 0.328, \tHomo: 0.463, \tNMI: 0.455\n"
     ]
    }
   ],
   "source": [
    "ami, ari, homo, nmi = sinfonia.clustering_metrics(adata, 'label', \"default_louvain\")\n",
    "print('Louvain with default resolution:\\nAMI: %.3f, \\tARI: %.3f, \\tHomo: %.3f, \\tNMI: %.3f' % (ami, ari, homo, nmi))"
   ]
  },
  {
   "cell_type": "code",
   "execution_count": 11,
   "id": "28682432",
   "metadata": {
    "ExecuteTime": {
     "end_time": "2022-05-11T05:33:52.024120Z",
     "start_time": "2022-05-11T05:33:51.950222Z"
    }
   },
   "outputs": [
    {
     "name": "stdout",
     "output_type": "stream",
     "text": [
      "Leiden with default resolution:\n",
      "AMI: 0.452, \tARI: 0.347, \tHomo: 0.478, \tNMI: 0.454\n"
     ]
    }
   ],
   "source": [
    "ami, ari, homo, nmi = sinfonia.clustering_metrics(adata, 'label', \"default_leiden\")\n",
    "print('Leiden with default resolution:\\nAMI: %.3f, \\tARI: %.3f, \\tHomo: %.3f, \\tNMI: %.3f' % (ami, ari, homo, nmi))"
   ]
  },
  {
   "cell_type": "markdown",
   "id": "6237f16b",
   "metadata": {},
   "source": [
    "We then evaluate the performance for spatial clustering with specified number of clusters."
   ]
  },
  {
   "cell_type": "code",
   "execution_count": 12,
   "id": "d3688b98",
   "metadata": {
    "ExecuteTime": {
     "end_time": "2022-05-11T05:33:54.951035Z",
     "start_time": "2022-05-11T05:33:54.872467Z"
    }
   },
   "outputs": [
    {
     "name": "stdout",
     "output_type": "stream",
     "text": [
      "Louvain with searched resolution:\n",
      "AMI: 0.449, \tARI: 0.327, \tHomo: 0.458, \tNMI: 0.450\n"
     ]
    }
   ],
   "source": [
    "ami, ari, homo, nmi = sinfonia.clustering_metrics(adata, 'label', \"cluster_louvain\")\n",
    "print('Louvain with searched resolution:\\nAMI: %.3f, \\tARI: %.3f, \\tHomo: %.3f, \\tNMI: %.3f' % (ami, ari, homo, nmi))"
   ]
  },
  {
   "cell_type": "code",
   "execution_count": 13,
   "id": "7357916a",
   "metadata": {
    "ExecuteTime": {
     "end_time": "2022-05-11T05:33:56.937158Z",
     "start_time": "2022-05-11T05:33:56.853792Z"
    }
   },
   "outputs": [
    {
     "name": "stdout",
     "output_type": "stream",
     "text": [
      "Leiden with searched resolution:\n",
      "AMI: 0.477, \tARI: 0.379, \tHomo: 0.459, \tNMI: 0.479\n"
     ]
    }
   ],
   "source": [
    "ami, ari, homo, nmi = sinfonia.clustering_metrics(adata, 'label', \"cluster_leiden\")\n",
    "print('Leiden with searched resolution:\\nAMI: %.3f, \\tARI: %.3f, \\tHomo: %.3f, \\tNMI: %.3f' % (ami, ari, homo, nmi))"
   ]
  },
  {
   "cell_type": "markdown",
   "id": "8c5e4eac",
   "metadata": {},
   "source": [
    "Next, we evaluate the performance for domain resolution and latent representation."
   ]
  },
  {
   "cell_type": "code",
   "execution_count": 14,
   "id": "734ae45f",
   "metadata": {
    "ExecuteTime": {
     "end_time": "2022-05-11T05:33:58.804344Z",
     "start_time": "2022-05-11T05:33:58.799242Z"
    },
    "code_folding": []
   },
   "outputs": [],
   "source": [
    "# We use rpy2 to run R packages from Python.\n",
    "def LISI(coords, meta, label, perplexity=30, nn_eps=0):\n",
    "    import rpy2.robjects as robjects\n",
    "    from rpy2.robjects import pandas2ri\n",
    "    pandas2ri.activate()\n",
    "    from rpy2.robjects.packages import importr\n",
    "    importr(\"lisi\")\n",
    "    if not isinstance(coords, pd.DataFrame):\n",
    "        coords = pd.DataFrame(coords)\n",
    "    if not isinstance(meta, pd.DataFrame):\n",
    "        meta = pd.DataFrame(meta)\n",
    "    meta = meta.loc[:, [label]]\n",
    "    meta[label] = meta[label].astype(str)\n",
    "    \n",
    "    coords = robjects.conversion.py2rpy(coords)\n",
    "    meta = robjects.conversion.py2rpy(meta)\n",
    "    as_matrix = robjects.r[\"as.matrix\"]\n",
    "    lisi = robjects.r[\"compute_lisi\"](as_matrix(coords), meta, label, perplexity, nn_eps)\n",
    "    if isinstance(lisi, pd.DataFrame):\n",
    "        lisi = lisi.values\n",
    "    elif isinstance(lisi, np.recarray):\n",
    "        lisi = [item[0] for item in lisi]\n",
    "    \n",
    "    return lisi"
   ]
  },
  {
   "cell_type": "code",
   "execution_count": 15,
   "id": "98301461",
   "metadata": {
    "ExecuteTime": {
     "end_time": "2022-05-11T05:34:03.442493Z",
     "start_time": "2022-05-11T05:33:59.079371Z"
    }
   },
   "outputs": [
    {
     "name": "stdout",
     "output_type": "stream",
     "text": [
      "MAP: 0.657, \tMCVA: 0.798, \tiLISImd: 0.544, \tiLISIm:0.515\n"
     ]
    }
   ],
   "source": [
    "MAP = sinfonia.mean_average_precision(adata.obsm[\"X_pca\"].copy(), adata.obs['label'])\n",
    "MCVA = sinfonia.mean_cross_validation_accuracy(adata.obsm[\"X_pca\"].copy(), adata.obs['label'])\n",
    "lisi = LISI(adata.obsm[\"X_pca\"].copy(), adata.obs.copy(), 'label')\n",
    "print(\"MAP: %.3f, \\tMCVA: %.3f, \\tiLISImd: %.3f, \\tiLISIm:%.3f\"%(MAP, MCVA, 1/np.median(lisi), 1/np.mean(lisi)))"
   ]
  }
 ],
 "metadata": {
  "kernelspec": {
   "display_name": "Python [conda env:stSVG]",
   "language": "python",
   "name": "conda-env-stSVG-py"
  },
  "language_info": {
   "codemirror_mode": {
    "name": "ipython",
    "version": 3
   },
   "file_extension": ".py",
   "mimetype": "text/x-python",
   "name": "python",
   "nbconvert_exporter": "python",
   "pygments_lexer": "ipython3",
   "version": "3.8.13"
  },
  "toc": {
   "base_numbering": 1,
   "nav_menu": {},
   "number_sections": true,
   "sideBar": true,
   "skip_h1_title": false,
   "title_cell": "Table of Contents",
   "title_sidebar": "Contents",
   "toc_cell": false,
   "toc_position": {
    "height": "1202.94px",
    "left": "31px",
    "top": "49.6px",
    "width": "256.141px"
   },
   "toc_section_display": true,
   "toc_window_display": true
  }
 },
 "nbformat": 4,
 "nbformat_minor": 5
}
