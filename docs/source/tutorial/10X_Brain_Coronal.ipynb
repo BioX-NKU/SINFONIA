{
 "cells": [
  {
   "cell_type": "markdown",
   "id": "70cd4e11",
   "metadata": {},
   "source": [
    "# Identifying SVGs on brain coronal data using SINFONIA"
   ]
  },
  {
   "attachments": {},
   "cell_type": "markdown",
   "id": "015d551e",
   "metadata": {},
   "source": [
    "The following tutorial demonstrates how to use SINFONIA for identifying spatially variable genes (SVGs) on a mouse brain coronal dataset ([10X Genomics, 2021](https://support.10xgenomics.com/spatial-gene-expression/library-prep/doc/user-guide-visium-spatial-gene-expression-reagent-kits-user-guide))."
   ]
  },
  {
   "cell_type": "markdown",
   "id": "81f65b7c",
   "metadata": {},
   "source": [
    "There are two parts in this tutorial:"
   ]
  },
  {
   "cell_type": "markdown",
   "id": "d897413e",
   "metadata": {},
   "source": [
    "- **Integrating SINFONIA into SCANPY.** This part will show you how to seamlessly integrate SINFONIA into the SCANPY vignette for spatial transcriptomic data.\n",
    "- **Evaluating the performance for deciphering spatial domain.** This part will show you how to evaluate the performance of identified SVGs for deciphering spatial domain, and reproduce the results in the manuscript of SINFONIA."
   ]
  },
  {
   "cell_type": "code",
   "execution_count": 1,
   "id": "a91725c0",
   "metadata": {
    "ExecuteTime": {
     "end_time": "2022-05-11T05:34:38.626974Z",
     "start_time": "2022-05-11T05:34:36.980542Z"
    }
   },
   "outputs": [],
   "source": [
    "import numpy as np\n",
    "import pandas as pd\n",
    "import scanpy as sc\n",
    "import sinfonia\n",
    "import warnings\n",
    "warnings.filterwarnings(\"ignore\")"
   ]
  },
  {
   "cell_type": "markdown",
   "id": "09d94577",
   "metadata": {},
   "source": [
    "On a unix system, you can uncomment and execute the following command to download the brain coronal dataset in AnnData format."
   ]
  },
  {
   "cell_type": "code",
   "execution_count": 2,
   "id": "adcbe0d1",
   "metadata": {
    "ExecuteTime": {
     "end_time": "2022-05-11T05:34:38.631293Z",
     "start_time": "2022-05-11T05:34:38.628611Z"
    }
   },
   "outputs": [],
   "source": [
    "# !wget https://health.tsinghua.edu.cn/software/sinfonia/data/10X_Brain_Coronal.h5ad"
   ]
  },
  {
   "cell_type": "code",
   "execution_count": 3,
   "id": "1d223c3d",
   "metadata": {
    "ExecuteTime": {
     "end_time": "2022-05-11T05:34:38.818138Z",
     "start_time": "2022-05-11T05:34:38.635818Z"
    }
   },
   "outputs": [
    {
     "data": {
      "text/plain": [
       "AnnData object with n_obs × n_vars = 2800 × 32285\n",
       "    obs: 'label'\n",
       "    var: 'gene_id', 'gene_name'\n",
       "    obsm: 'spatial'"
      ]
     },
     "execution_count": 3,
     "metadata": {},
     "output_type": "execute_result"
    }
   ],
   "source": [
    "Brain_Coronal = sc.read('10X_Brain_Coronal.h5ad')\n",
    "Brain_Coronal"
   ]
  },
  {
   "cell_type": "markdown",
   "id": "3796f376",
   "metadata": {},
   "source": [
    "## Integrating SINFONIA into SCANPY"
   ]
  },
  {
   "cell_type": "markdown",
   "id": "3a4eebfa",
   "metadata": {},
   "source": [
    "First, we set a random seed for reproducibility."
   ]
  },
  {
   "cell_type": "code",
   "execution_count": 4,
   "id": "a13ff0b9",
   "metadata": {
    "ExecuteTime": {
     "end_time": "2022-05-11T05:34:38.822001Z",
     "start_time": "2022-05-11T05:34:38.819324Z"
    }
   },
   "outputs": [],
   "source": [
    "sinfonia.setup_seed(2022)"
   ]
  },
  {
   "cell_type": "markdown",
   "id": "ff1b9104",
   "metadata": {},
   "source": [
    "We then follow [the SCANPY vignette](https://scanpy-tutorials.readthedocs.io/en/latest/spatial/basic-analysis.html) for spatial transcriptomic data to process the brain coronal dataset. In order to avoid subjective factors in quality control, we start from the count matrix."
   ]
  },
  {
   "cell_type": "markdown",
   "id": "408ac19d",
   "metadata": {},
   "source": [
    "We filter out the genes with zero counts, normalize and logarithmize the data."
   ]
  },
  {
   "cell_type": "code",
   "execution_count": 5,
   "id": "a8dc4ed3",
   "metadata": {
    "ExecuteTime": {
     "end_time": "2022-05-11T05:34:39.597245Z",
     "start_time": "2022-05-11T05:34:39.060753Z"
    }
   },
   "outputs": [],
   "source": [
    "adata = Brain_Coronal.copy()\n",
    "sc.pp.filter_genes(adata, min_cells=1)\n",
    "sc.pp.normalize_total(adata, inplace=True)\n",
    "sc.pp.log1p(adata)"
   ]
  },
  {
   "cell_type": "markdown",
   "id": "93350a89",
   "metadata": {},
   "source": [
    "Next, we detect SVGs via SINFONIA with the same `n_top_genes` as in the SCANPY vignette."
   ]
  },
  {
   "cell_type": "code",
   "execution_count": 6,
   "id": "59073323",
   "metadata": {
    "ExecuteTime": {
     "end_time": "2022-05-11T05:34:56.803703Z",
     "start_time": "2022-05-11T05:34:41.117303Z"
    }
   },
   "outputs": [],
   "source": [
    "adata = sinfonia.spatially_variable_genes(adata, n_top_genes=2000, subset=True)"
   ]
  },
  {
   "cell_type": "markdown",
   "id": "1c31771f",
   "metadata": {},
   "source": [
    "The mode used to identify SVGs is stored in `adata.uns['svg']`. Boolean indicators of SVGs are stored in `adata.var['spatially_variable']`. Moran’s I scores of all the genes are stored in `adata.var['moranI']`, while rescaled Geary’s C scores of all the genes are stored in `adata.var['gearyC']`."
   ]
  },
  {
   "cell_type": "code",
   "execution_count": 7,
   "id": "ca4cdc9a",
   "metadata": {
    "ExecuteTime": {
     "end_time": "2022-05-11T05:34:56.808889Z",
     "start_time": "2022-05-11T05:34:56.805400Z"
    }
   },
   "outputs": [
    {
     "data": {
      "text/plain": [
       "View of AnnData object with n_obs × n_vars = 2800 × 2176\n",
       "    obs: 'label'\n",
       "    var: 'gene_id', 'gene_name', 'n_cells', 'spatially_variable', 'moranI', 'gearyC'\n",
       "    uns: 'log1p', 'svg'\n",
       "    obsm: 'spatial'"
      ]
     },
     "execution_count": 7,
     "metadata": {},
     "output_type": "execute_result"
    }
   ],
   "source": [
    "adata"
   ]
  },
  {
   "cell_type": "markdown",
   "id": "e4295b02",
   "metadata": {},
   "source": [
    "We then embed and cluster the manifold encoded by transcriptional similarity."
   ]
  },
  {
   "cell_type": "code",
   "execution_count": 8,
   "id": "d069e311",
   "metadata": {
    "ExecuteTime": {
     "end_time": "2022-05-11T05:35:09.305826Z",
     "start_time": "2022-05-11T05:34:56.810072Z"
    }
   },
   "outputs": [],
   "source": [
    "sc.pp.pca(adata)\n",
    "sc.pp.neighbors(adata)\n",
    "sc.tl.umap(adata)\n",
    "sc.tl.louvain(adata, key_added=\"default_louvain\")\n",
    "sc.tl.leiden(adata, key_added=\"default_leiden\")"
   ]
  },
  {
   "cell_type": "markdown",
   "id": "05ae89fc",
   "metadata": {},
   "source": [
    "We can also specify the number of clusters. SINFONIA will perform a binary search to tune the resolution parameter in clustering to make the number of clusters and the specified number as close as possible."
   ]
  },
  {
   "cell_type": "code",
   "execution_count": 9,
   "id": "0d6dfb49",
   "metadata": {
    "ExecuteTime": {
     "end_time": "2022-05-11T05:35:10.549243Z",
     "start_time": "2022-05-11T05:35:09.307231Z"
    }
   },
   "outputs": [
    {
     "name": "stdout",
     "output_type": "stream",
     "text": [
      "Succeed to find 15 clusters at resolution 0.844.\n",
      "Succeed to find 15 clusters at resolution 0.656.\n"
     ]
    }
   ],
   "source": [
    "adata = sinfonia.get_N_clusters(adata, n_cluster=adata.obs['label'].nunique(), cluster_method='louvain')\n",
    "adata.obs['cluster_louvain'] = adata.obs['louvain']\n",
    "adata = sinfonia.get_N_clusters(adata, n_cluster=adata.obs['label'].nunique(), cluster_method='leiden')\n",
    "adata.obs['cluster_leiden'] = adata.obs['leiden']"
   ]
  },
  {
   "cell_type": "markdown",
   "id": "be029b9e",
   "metadata": {},
   "source": [
    "## Evaluating the performance for deciphering spatial domain"
   ]
  },
  {
   "cell_type": "markdown",
   "id": "b7dcaa11",
   "metadata": {},
   "source": [
    "We first evaluate the performance for spatial clustering with default resolution in SCANPY."
   ]
  },
  {
   "cell_type": "code",
   "execution_count": 10,
   "id": "0532be0c",
   "metadata": {
    "ExecuteTime": {
     "end_time": "2022-05-11T05:35:10.588547Z",
     "start_time": "2022-05-11T05:35:10.550888Z"
    }
   },
   "outputs": [
    {
     "name": "stdout",
     "output_type": "stream",
     "text": [
      "Louvain with default resolution:\n",
      "AMI: 0.890, \tARI: 0.827, \tHomo: 0.906, \tNMI: 0.892\n"
     ]
    }
   ],
   "source": [
    "ami, ari, homo, nmi = sinfonia.clustering_metrics(adata, 'label', \"default_louvain\")\n",
    "print('Louvain with default resolution:\\nAMI: %.3f, \\tARI: %.3f, \\tHomo: %.3f, \\tNMI: %.3f' % (ami, ari, homo, nmi))"
   ]
  },
  {
   "cell_type": "code",
   "execution_count": 11,
   "id": "9a1e9e0c",
   "metadata": {
    "ExecuteTime": {
     "end_time": "2022-05-11T05:35:10.628829Z",
     "start_time": "2022-05-11T05:35:10.590023Z"
    }
   },
   "outputs": [
    {
     "name": "stdout",
     "output_type": "stream",
     "text": [
      "Leiden with default resolution:\n",
      "AMI: 0.881, \tARI: 0.787, \tHomo: 0.918, \tNMI: 0.883\n"
     ]
    }
   ],
   "source": [
    "ami, ari, homo, nmi = sinfonia.clustering_metrics(adata, 'label', \"default_leiden\")\n",
    "print('Leiden with default resolution:\\nAMI: %.3f, \\tARI: %.3f, \\tHomo: %.3f, \\tNMI: %.3f' % (ami, ari, homo, nmi))"
   ]
  },
  {
   "cell_type": "markdown",
   "id": "c02d5c28",
   "metadata": {},
   "source": [
    "We then evaluate the performance for spatial clustering with specified number of clusters."
   ]
  },
  {
   "cell_type": "code",
   "execution_count": 12,
   "id": "6df4a917",
   "metadata": {
    "ExecuteTime": {
     "end_time": "2022-05-11T05:35:14.252649Z",
     "start_time": "2022-05-11T05:35:14.194538Z"
    }
   },
   "outputs": [
    {
     "name": "stdout",
     "output_type": "stream",
     "text": [
      "Louvain with searched resolution:\n",
      "AMI: 0.877, \tARI: 0.803, \tHomo: 0.885, \tNMI: 0.878\n"
     ]
    }
   ],
   "source": [
    "ami, ari, homo, nmi = sinfonia.clustering_metrics(adata, 'label', \"cluster_louvain\")\n",
    "print('Louvain with searched resolution:\\nAMI: %.3f, \\tARI: %.3f, \\tHomo: %.3f, \\tNMI: %.3f' % (ami, ari, homo, nmi))"
   ]
  },
  {
   "cell_type": "code",
   "execution_count": 13,
   "id": "cc5eacbe",
   "metadata": {
    "ExecuteTime": {
     "end_time": "2022-05-11T05:35:15.830185Z",
     "start_time": "2022-05-11T05:35:15.775011Z"
    }
   },
   "outputs": [
    {
     "name": "stdout",
     "output_type": "stream",
     "text": [
      "Leiden with searched resolution:\n",
      "AMI: 0.923, \tARI: 0.901, \tHomo: 0.923, \tNMI: 0.924\n"
     ]
    }
   ],
   "source": [
    "ami, ari, homo, nmi = sinfonia.clustering_metrics(adata, 'label', \"cluster_leiden\")\n",
    "print('Leiden with searched resolution:\\nAMI: %.3f, \\tARI: %.3f, \\tHomo: %.3f, \\tNMI: %.3f' % (ami, ari, homo, nmi))"
   ]
  },
  {
   "cell_type": "markdown",
   "id": "fc2f29aa",
   "metadata": {},
   "source": [
    "Next, we evaluate the performance for domain resolution and latent representation."
   ]
  },
  {
   "cell_type": "code",
   "execution_count": 14,
   "id": "734ae45f",
   "metadata": {
    "ExecuteTime": {
     "end_time": "2022-05-11T05:35:17.374411Z",
     "start_time": "2022-05-11T05:35:17.365080Z"
    },
    "code_folding": []
   },
   "outputs": [],
   "source": [
    "# We use rpy2 to run R packages from Python.\n",
    "def LISI(coords, meta, label, perplexity=30, nn_eps=0):\n",
    "    import rpy2.robjects as robjects\n",
    "    from rpy2.robjects import pandas2ri\n",
    "    pandas2ri.activate()\n",
    "    from rpy2.robjects.packages import importr\n",
    "    importr(\"lisi\")\n",
    "    if not isinstance(coords, pd.DataFrame):\n",
    "        coords = pd.DataFrame(coords)\n",
    "    if not isinstance(meta, pd.DataFrame):\n",
    "        meta = pd.DataFrame(meta)\n",
    "    meta = meta.loc[:, [label]]\n",
    "    meta[label] = meta[label].astype(str)\n",
    "    \n",
    "    coords = robjects.conversion.py2rpy(coords)\n",
    "    meta = robjects.conversion.py2rpy(meta)\n",
    "    as_matrix = robjects.r[\"as.matrix\"]\n",
    "    lisi = robjects.r[\"compute_lisi\"](as_matrix(coords), meta, label, perplexity, nn_eps)\n",
    "    if isinstance(lisi, pd.DataFrame):\n",
    "        lisi = lisi.values\n",
    "    elif isinstance(lisi, np.recarray):\n",
    "        lisi = [item[0] for item in lisi]\n",
    "    \n",
    "    return lisi"
   ]
  },
  {
   "cell_type": "code",
   "execution_count": 15,
   "id": "ca94472c",
   "metadata": {
    "ExecuteTime": {
     "end_time": "2022-05-11T05:35:21.601347Z",
     "start_time": "2022-05-11T05:35:19.027678Z"
    }
   },
   "outputs": [
    {
     "name": "stdout",
     "output_type": "stream",
     "text": [
      "MAP: 0.929, \tMCVA: 0.964, \tiLISImd: 0.943, \tiLISIm:0.811\n"
     ]
    }
   ],
   "source": [
    "MAP = sinfonia.mean_average_precision(adata.obsm[\"X_pca\"].copy(), adata.obs['label'])\n",
    "MCVA = sinfonia.mean_cross_validation_accuracy(adata.obsm[\"X_pca\"].copy(), adata.obs['label'])\n",
    "lisi = LISI(adata.obsm[\"X_pca\"].copy(), adata.obs.copy(), 'label')\n",
    "print(\"MAP: %.3f, \\tMCVA: %.3f, \\tiLISImd: %.3f, \\tiLISIm:%.3f\"%(MAP, MCVA, 1/np.median(lisi), 1/np.mean(lisi)))"
   ]
  }
 ],
 "metadata": {
  "kernelspec": {
   "display_name": "Python [conda env:stSVG]",
   "language": "python",
   "name": "conda-env-stSVG-py"
  },
  "language_info": {
   "codemirror_mode": {
    "name": "ipython",
    "version": 3
   },
   "file_extension": ".py",
   "mimetype": "text/x-python",
   "name": "python",
   "nbconvert_exporter": "python",
   "pygments_lexer": "ipython3",
   "version": "3.8.13"
  },
  "toc": {
   "base_numbering": 1,
   "nav_menu": {},
   "number_sections": true,
   "sideBar": true,
   "skip_h1_title": false,
   "title_cell": "Table of Contents",
   "title_sidebar": "Contents",
   "toc_cell": false,
   "toc_position": {
    "height": "1202.94px",
    "left": "31px",
    "top": "49.6px",
    "width": "256.141px"
   },
   "toc_section_display": true,
   "toc_window_display": true
  }
 },
 "nbformat": 4,
 "nbformat_minor": 5
}
